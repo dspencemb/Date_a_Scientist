{
 "cells": [
  {
   "cell_type": "code",
   "execution_count": 104,
   "metadata": {},
   "outputs": [
    {
     "name": "stdout",
     "output_type": "stream",
     "text": [
      "Index(['drugs', 'essay9'], dtype='object')\n",
      "never        29028\n",
      "sometimes     6488\n",
      "often          338\n",
      "Name: drugs, dtype: int64\n"
     ]
    }
   ],
   "source": [
    "import pandas as pd\n",
    "import numpy as np\n",
    "raw_data = pd.read_csv('profiles.csv')\n",
    "profiles = raw_data[['drugs','essay9']]\n",
    "profiles = profiles.dropna()\n",
    "print(profiles.columns)\n",
    "print(profiles.drugs.value_counts())"
   ]
  },
  {
   "cell_type": "markdown",
   "metadata": {},
   "source": [
    "Age, Drinks, Drugs, height, income these are all quantitative scale/range."
   ]
  },
  {
   "cell_type": "markdown",
   "metadata": {},
   "source": [
    "Can we use someone's essay response to predict if they are a drug user. The three labels are \"Never\", \"Sometimes\", \"Often\". I think essay 0 or essay 9 would be interesting to explore."
   ]
  },
  {
   "cell_type": "code",
   "execution_count": 101,
   "metadata": {},
   "outputs": [
    {
     "name": "stdout",
     "output_type": "stream",
     "text": [
      "     drugs                                             essay9\n",
      "102  often  you like my words. you like my face. you'd lik...\n",
      "123  often                              you feel so inclined.\n",
      "146  often  want to be a porn star! willing to do anything...\n",
      "432  often                   you can't say no to a good time.\n",
      "490  often      message me if you are interested in who i am.\n"
     ]
    }
   ],
   "source": [
    "Never_Drugs = profiles[profiles['drugs'] == 'never']\n",
    "Some_Drugs = profiles[profiles['drugs'] == 'sometimes']\n",
    "Lots_o_Drugs = profiles[profiles['drugs'] == 'often']\n",
    "never_text = Never_Drugs['essay9'].tolist()\n",
    "some_text = Some_Drugs['essay9'].tolist()\n",
    "lots_text = Lots_o_Drugs['essay9'].tolist()\n",
    "all_text = never_text + some_text + lots_text\n",
    "labels = [0] * len(never_text) + [1] * len(some_text) + [2] * len(lots_text)\n",
    "print(Lots_o_Drugs.head())"
   ]
  },
  {
   "cell_type": "code",
   "execution_count": 82,
   "metadata": {},
   "outputs": [
    {
     "name": "stdout",
     "output_type": "stream",
     "text": [
      "you should message me if you think we might be a match :-)\n",
      "7171\n",
      "35854\n"
     ]
    }
   ],
   "source": [
    "from sklearn.model_selection import train_test_split\n",
    "train_data, test_data, train_labels, test_labels = train_test_split(all_text, labels, test_size = 0.2, random_state = 1)\n",
    "print(train_data[10])\n",
    "print(len(test_data))\n",
    "print(len(all_text))"
   ]
  },
  {
   "cell_type": "code",
   "execution_count": 89,
   "metadata": {
    "scrolled": true
   },
   "outputs": [
    {
     "name": "stdout",
     "output_type": "stream",
     "text": [
      "you are full of life and are looking for someone who is, too.\n",
      "  (0, 1317)\t1\n",
      "  (0, 1600)\t2\n",
      "  (0, 8657)\t1\n",
      "  (0, 8973)\t1\n",
      "  (0, 11733)\t1\n",
      "  (0, 12785)\t1\n",
      "  (0, 13054)\t1\n",
      "  (0, 15203)\t1\n",
      "  (0, 20249)\t1\n",
      "  (0, 22205)\t1\n",
      "  (0, 23919)\t1\n",
      "  (0, 24444)\t1\n"
     ]
    }
   ],
   "source": [
    "from sklearn.feature_extraction.text import CountVectorizer\n",
    "counter = CountVectorizer()\n",
    "counter.fit(train_data)\n",
    "train_counts = counter.transform(train_data)\n",
    "test_counts = counter.transform(test_data)\n",
    "print(train_data[7000])\n",
    "print(train_counts[7000])"
   ]
  },
  {
   "cell_type": "code",
   "execution_count": 84,
   "metadata": {},
   "outputs": [],
   "source": [
    "from sklearn.naive_bayes import MultinomialNB\n",
    "classifier = MultinomialNB()\n",
    "classifier.fit(train_counts,train_labels)\n",
    "predictions = classifier.predict(test_counts)"
   ]
  },
  {
   "cell_type": "code",
   "execution_count": 85,
   "metadata": {},
   "outputs": [
    {
     "name": "stdout",
     "output_type": "stream",
     "text": [
      "0.8028169014084507\n"
     ]
    }
   ],
   "source": [
    "from sklearn.metrics import accuracy_score\n",
    "print(accuracy_score(test_labels, predictions))"
   ]
  },
  {
   "cell_type": "code",
   "execution_count": 86,
   "metadata": {},
   "outputs": [
    {
     "name": "stdout",
     "output_type": "stream",
     "text": [
      "[[5632  172    1]\n",
      " [1167  125    2]\n",
      " [  66    6    0]]\n"
     ]
    }
   ],
   "source": [
    "from sklearn.metrics import confusion_matrix\n",
    "print(confusion_matrix(test_labels,predictions))"
   ]
  },
  {
   "cell_type": "code",
   "execution_count": 96,
   "metadata": {},
   "outputs": [
    {
     "name": "stdout",
     "output_type": "stream",
     "text": [
      "[0]\n"
     ]
    }
   ],
   "source": [
    "essay = 'want to be a porn star!'\n",
    "essay_counts = counter.transform([essay])\n",
    "print(classifier.predict(essay_counts))"
   ]
  }
 ],
 "metadata": {
  "kernelspec": {
   "display_name": "Python 3",
   "language": "python",
   "name": "python3"
  },
  "language_info": {
   "codemirror_mode": {
    "name": "ipython",
    "version": 3
   },
   "file_extension": ".py",
   "mimetype": "text/x-python",
   "name": "python",
   "nbconvert_exporter": "python",
   "pygments_lexer": "ipython3",
   "version": "3.7.6"
  }
 },
 "nbformat": 4,
 "nbformat_minor": 4
}
